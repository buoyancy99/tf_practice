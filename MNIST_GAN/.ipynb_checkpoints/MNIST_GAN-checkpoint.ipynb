{
 "cells": [
  {
   "cell_type": "code",
   "execution_count": 1,
   "metadata": {},
   "outputs": [],
   "source": [
    "import tensorflow as tf\n",
    "import numpy as np\n",
    "import matplotlib.pyplot as plt\n",
    "import datetime\n",
    "%matplotlib inline"
   ]
  },
  {
   "cell_type": "code",
   "execution_count": 2,
   "metadata": {},
   "outputs": [
    {
     "name": "stdout",
     "output_type": "stream",
     "text": [
      "Extracting MNIST_data/train-images-idx3-ubyte.gz\n",
      "Extracting MNIST_data/train-labels-idx1-ubyte.gz\n",
      "Extracting MNIST_data/t10k-images-idx3-ubyte.gz\n",
      "Extracting MNIST_data/t10k-labels-idx1-ubyte.gz\n"
     ]
    }
   ],
   "source": [
    "from tensorflow.examples.tutorials.mnist import input_data\n",
    "mnist = input_data.read_data_sets(\"MNIST_data/\")"
   ]
  },
  {
   "cell_type": "code",
   "execution_count": 3,
   "metadata": {},
   "outputs": [
    {
     "data": {
      "text/plain": [
       "<matplotlib.image.AxesImage at 0x7fd77b34fa58>"
      ]
     },
     "execution_count": 3,
     "metadata": {},
     "output_type": "execute_result"
    },
    {
     "data": {
      "image/png": "[encoded data removed]",
      "text/plain": [
       "<Figure size 432x288 with 1 Axes>"
      ]
     },
     "metadata": {
      "needs_background": "light"
     },
     "output_type": "display_data"
    }
   ],
   "source": [
    "sample_image = mnist.train.next_batch(1)[0]\n",
    "sample_image = sample_image.reshape([28, 28])\n",
    "plt.imshow(sample_image, cmap='Greys')"
   ]
  },
  {
   "cell_type": "code",
   "execution_count": 4,
   "metadata": {},
   "outputs": [],
   "source": [
    "def discriminator(X, name=\"d\",reuse=False):\n",
    "    with tf.variable_scope(name, reuse=reuse):\n",
    "        with tf.variable_scope(\"conv1\"):\n",
    "            w1 = tf.get_variable('w', [5,5,1,32], initializer=tf.truncated_normal_initializer(stddev = 0.02))\n",
    "            b1 = tf.get_variable('b', [32], initializer=tf.constant_initializer(0.01))\n",
    "            a1 = tf.nn.relu(tf.nn.conv2d(X, filter=w1, strides=[1,1,1,1], padding='SAME') + b1)\n",
    "            p1 = tf.nn.avg_pool(a1, ksize=[1,2,2,1], strides=[1,2,2,1], padding='SAME')\n",
    "        \n",
    "        with tf.variable_scope(\"conv2\"):\n",
    "            w2 = tf.get_variable('w', [5,5,32,64], initializer=tf.truncated_normal_initializer(stddev = 0.02))\n",
    "            b2 = tf.get_variable('b', [64], initializer=tf.constant_initializer(0.01))\n",
    "            a2 = tf.nn.relu(tf.nn.conv2d(p1, filter=w2, strides=[1,1,1,1], padding='SAME') + b2)\n",
    "            p2 = tf.nn.avg_pool(a2, ksize=[1,2,2,1], strides=[1,2,2,1], padding='SAME')\n",
    "            p2 = tf.reshape(p2, [-1, 7 * 7 * 64])\n",
    "        \n",
    "        with tf.variable_scope(\"fc1\"):\n",
    "            w3 = tf.get_variable('w', [7*7*64, 1024], initializer=tf.truncated_normal_initializer(stddev = 0.02))\n",
    "            b3 = tf.get_variable('b', [1024], initializer=tf.constant_initializer(0.01))\n",
    "            a3 = tf.nn.relu(tf.matmul(p2, w3) + b3)\n",
    "        \n",
    "        with tf.variable_scope(\"fc2\"):\n",
    "            w4 = tf.get_variable('w', [1024, 1], initializer=tf.truncated_normal_initializer(stddev = 0.02))\n",
    "            b4 = tf.get_variable('b', [1], initializer=tf.constant_initializer(0.01))\n",
    "            a4 = tf.nn.relu(tf.matmul(a3, w4) + b4)\n",
    "        \n",
    "    return a4"
   ]
  },
  {
   "cell_type": "code",
   "execution_count": 5,
   "metadata": {},
   "outputs": [],
   "source": [
    "def generator(X, name='g',reuse=False):\n",
    "    dim = int(X.shape[-1])\n",
    "    \n",
    "    with tf.variable_scope(name, reuse=reuse):\n",
    "        with tf.variable_scope(\"fc1\"):\n",
    "            w1 = tf.get_variable('w', [dim, 3136], initializer=tf.truncated_normal_initializer(stddev=0.02))\n",
    "            b1 = tf.get_variable('b', [3136], initializer=tf.truncated_normal_initializer(stddev=0.01))\n",
    "            z1 = tf.matmul(X, w1) + b1\n",
    "            z1 = tf.reshape(z1, [-1, 56, 56, 1])\n",
    "            z1 = tf.contrib.layers.batch_norm(z1, epsilon=1e-5, scope='bn')\n",
    "            a1 = tf.nn.relu(z1)\n",
    "\n",
    "        # Generate 50 features\n",
    "        with tf.variable_scope(\"conv1\"):\n",
    "            w2 = tf.get_variable('w', [3, 3, 1, dim/2], initializer=tf.truncated_normal_initializer(stddev=0.02))\n",
    "            b2 = tf.get_variable('b', [dim/2], initializer=tf.truncated_normal_initializer(stddev=0.01))\n",
    "            z2 = tf.nn.conv2d(a1, w2, strides=[1, 2, 2, 1], padding='SAME') + b2\n",
    "            z2 = tf.contrib.layers.batch_norm(z2, epsilon=1e-5, scope='bn')\n",
    "            a2 = tf.nn.relu(z2)\n",
    "            a2 = tf.image.resize_images(a2, [56, 56])\n",
    "\n",
    "        with tf.variable_scope(\"conv2\"):\n",
    "            w3 = tf.get_variable('w', [3, 3, dim/2, dim/4], initializer=tf.truncated_normal_initializer(stddev=0.02))\n",
    "            b3 = tf.get_variable('b', [dim/4], initializer=tf.truncated_normal_initializer(stddev=0.01))\n",
    "            z3 = tf.nn.conv2d(a2, w3, strides=[1, 2, 2, 1], padding='SAME') + b3\n",
    "            z3 = tf.contrib.layers.batch_norm(z3, epsilon=1e-5, scope='bn')\n",
    "            a3 = tf.nn.relu(z3)\n",
    "            a3 = tf.image.resize_images(a3, [56, 56])\n",
    "            \n",
    "        with tf.variable_scope(\"conv3\"):\n",
    "            w4 = tf.get_variable('w', [1, 1, dim/4, 1], initializer=tf.truncated_normal_initializer(stddev=0.02))\n",
    "            b4 = tf.get_variable('b', [1], initializer=tf.truncated_normal_initializer(stddev=0.01))\n",
    "            z4 = tf.nn.conv2d(a3, w4, strides=[1, 2, 2, 1], padding='SAME') + b4\n",
    "            a4 = tf.sigmoid(z4)\n",
    "\n",
    "    return a4"
   ]
  },
  {
   "cell_type": "code",
   "execution_count": 6,
   "metadata": {},
   "outputs": [],
   "source": [
    "tf.reset_default_graph()\n",
    "batch_size = 50\n",
    "seed_dim = 100\n",
    "seed_placeholder = tf.placeholder(tf.float32, [None, seed_dim], name='seed_placeholder')\n",
    "real_placeholder = tf.placeholder(tf.float32, shape = [None,28,28,1], name='real_placeholder') \n",
    "G = generator(seed_placeholder)\n",
    "Dr = discriminator(real_placeholder) \n",
    "Df = discriminator(G, reuse=True)\n",
    "\n",
    "d_loss_real = tf.reduce_mean(tf.nn.sigmoid_cross_entropy_with_logits(logits=Dr, labels = tf.ones_like(Dr)))\n",
    "d_loss_fake = tf.reduce_mean(tf.nn.sigmoid_cross_entropy_with_logits(logits=Df, labels = tf.zeros_like(Df)))\n",
    "g_loss = tf.reduce_mean(tf.nn.sigmoid_cross_entropy_with_logits(logits=Df, labels = tf.ones_like(Df)))"
   ]
  },
  {
   "cell_type": "code",
   "execution_count": 7,
   "metadata": {},
   "outputs": [],
   "source": [
    "params = tf.trainable_variables()\n",
    "d_params = [p for p in params if 'd/' in p.name]\n",
    "g_params = [p for p in params if 'g/' in p.name]\n",
    "\n",
    "d_trainer_fake = tf.train.AdamOptimizer(0.0003).minimize(d_loss_fake, var_list=d_params)\n",
    "d_trainer_real = tf.train.AdamOptimizer(0.0003).minimize(d_loss_real, var_list=d_params)\n",
    "g_trainer = tf.train.AdamOptimizer(0.0001).minimize(g_loss, var_list=g_params)"
   ]
  },
  {
   "cell_type": "code",
   "execution_count": 8,
   "metadata": {},
   "outputs": [],
   "source": [
    "sess = tf.Session()\n",
    "tf.summary.scalar('Generator_loss', g_loss)\n",
    "tf.summary.scalar('Discriminator_loss_real', d_loss_real)\n",
    "tf.summary.scalar('Discriminator_loss_fake', d_loss_fake)\n",
    "\n",
    "images_for_tensorboard = generator(seed_placeholder, reuse=True)\n",
    "tf.summary.image('Generated_images', images_for_tensorboard, 5)\n",
    "merged = tf.summary.merge_all()\n",
    "logdir = \"tensorboard/\" + datetime.datetime.now().strftime(\"%Y%m%d-%H%M%S\") + \"/\"\n",
    "writer = tf.summary.FileWriter(logdir, sess.graph)"
   ]
  },
  {
   "cell_type": "code",
   "execution_count": null,
   "metadata": {
    "collapsed": true
   },
   "outputs": [
    {
     "name": "stdout",
     "output_type": "stream",
     "text": [
      "0\n"
     ]
    }
   ],
   "source": [
    "batch_size = 2\n",
    "sess.run(tf.global_variables_initializer())\n",
    "\n",
    "# Pre-train discriminator\n",
    "for i in range(300):\n",
    "    print(i)\n",
    "    seed_batch = np.random.normal(0, 1, size=[batch_size, seed_dim])\n",
    "    real_image_batch = mnist.train.next_batch(batch_size)[0].reshape([batch_size, 28, 28, 1])\n",
    "    _, _, dLossReal, dLossFake = sess.run([d_trainer_real, d_trainer_fake, d_loss_real, d_loss_fake],\n",
    "                                           {real_placeholder: real_image_batch, seed_placeholder: seed_batch})\n",
    "\n",
    "    if(i % 100 == 0):\n",
    "        print(\"dLossReal:\", dLossReal, \"dLossFake:\", dLossFake)\n",
    "\n",
    "# Train generator and discriminator together\n",
    "for i in range(100000):\n",
    "    real_image_batch = mnist.train.next_batch(batch_size)[0].reshape([batch_size, 28, 28, 1])\n",
    "    seed_batch = np.random.normal(0, 1, size=[batch_size, seed_dim])\n",
    "\n",
    "    # Train discriminator on both real and fake images\n",
    "    _, _, dLossReal, dLossFake = sess.run([d_trainer_real, d_trainer_fake, d_loss_real, d_loss_fake],\n",
    "                                           {real_placeholder: real_image_batch, seed_placeholder: seed_batch})\n",
    "\n",
    "    # Train generator\n",
    "    seed_batch = np.random.normal(0, 1, size=[batch_size, seed_dim])\n",
    "    _ = sess.run(g_trainer, feed_dict={seed_placeholder: seed_batch})\n",
    "\n",
    "    if i % 10 == 0:\n",
    "        # Update TensorBoard with summary statistics\n",
    "        seed_batch = np.random.normal(0, 1, size=[batch_size, seed_dim])\n",
    "        summary = sess.run(merged, {seed_placeholder: seed_batch, real_placeholder: real_image_batch})\n",
    "        writer.add_summary(summary, i)\n",
    "\n",
    "    if i % 100 == 0:\n",
    "        # Every 100 iterations, show a generated image\n",
    "        print(\"Iteration:\", i, \"at\", datetime.datetime.now())\n",
    "        seed_batch = np.random.normal(0, 1, size=[1, seed_dim])\n",
    "        generated_images = generator(seed_placeholder, 1, seed_dim)\n",
    "        images = sess.run(generated_images, {seed_placeholder: seed_batch})\n",
    "        plt.imshow(images[0].reshape([28, 28]), cmap='Greys')\n",
    "        plt.show()\n",
    "\n",
    "        # Show discriminator's estimate\n",
    "        im = images[0].reshape([1, 28, 28, 1])\n",
    "        result = discriminator(real_placeholder)\n",
    "        estimate = sess.run(result, {real_placeholder: im})\n",
    "        print(\"Estimate:\", estimate)"
   ]
  },
  {
   "cell_type": "code",
   "execution_count": null,
   "metadata": {},
   "outputs": [],
   "source": []
  }
 ],
 "metadata": {
  "kernelspec": {
   "display_name": "Python 3",
   "language": "python",
   "name": "python3"
  },
  "language_info": {
   "codemirror_mode": {
    "name": "ipython",
    "version": 3
   },
   "file_extension": ".py",
   "mimetype": "text/x-python",
   "name": "python",
   "nbconvert_exporter": "python",
   "pygments_lexer": "ipython3",
   "version": "3.6.7"
  }
 },
 "nbformat": 4,
 "nbformat_minor": 2
}
