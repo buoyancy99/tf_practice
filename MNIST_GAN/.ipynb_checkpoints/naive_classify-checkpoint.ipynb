{
 "cells": [
  {
   "cell_type": "code",
   "execution_count": 1,
   "metadata": {},
   "outputs": [],
   "source": [
    "import tensorflow as tf\n",
    "import numpy as np\n",
    "import matplotlib.pyplot as plt\n",
    "import datetime\n",
    "%matplotlib inline"
   ]
  },
  {
   "cell_type": "code",
   "execution_count": 2,
   "metadata": {},
   "outputs": [
    {
     "name": "stdout",
     "output_type": "stream",
     "text": [
      "Extracting MNIST_data/train-images-idx3-ubyte.gz\n",
      "Extracting MNIST_data/train-labels-idx1-ubyte.gz\n",
      "Extracting MNIST_data/t10k-images-idx3-ubyte.gz\n",
      "Extracting MNIST_data/t10k-labels-idx1-ubyte.gz\n"
     ]
    }
   ],
   "source": [
    "from tensorflow.examples.tutorials.mnist import input_data\n",
    "mnist = input_data.read_data_sets(\"MNIST_data/\")"
   ]
  },
  {
   "cell_type": "code",
   "execution_count": 3,
   "metadata": {},
   "outputs": [
    {
     "data": {
      "text/plain": [
       "<matplotlib.image.AxesImage at 0x7f860da4cb00>"
      ]
     },
     "execution_count": 3,
     "metadata": {},
     "output_type": "execute_result"
    },
    {
     "data": {
      "image/png": "[encoded data removed]",
      "text/plain": [
       "<Figure size 432x288 with 1 Axes>"
      ]
     },
     "metadata": {
      "needs_background": "light"
     },
     "output_type": "display_data"
    }
   ],
   "source": [
    "sample_image = mnist.train.next_batch(1)[0]\n",
    "sample_image = sample_image.reshape([28, 28])\n",
    "plt.imshow(sample_image, cmap='Greys')"
   ]
  },
  {
   "cell_type": "code",
   "execution_count": 4,
   "metadata": {},
   "outputs": [],
   "source": [
    "tf.reset_default_graph()"
   ]
  },
  {
   "cell_type": "code",
   "execution_count": null,
   "metadata": {},
   "outputs": [],
   "source": [
    "with tf.device('/gpu:0'):\n",
    "\n",
    "    X = tf.placeholder(tf.float32, shape=[None, 28, 28, 1])\n",
    "    y = tf.placeholder(tf.int64, shape=[None])\n",
    "\n",
    "    with tf.variable_scope(\"conv1\"):\n",
    "        w1 = tf.get_variable('w', [5,5,1,32], initializer=tf.truncated_normal_initializer(stddev = 0.02))\n",
    "        b1 = tf.get_variable('b', [32], initializer=tf.constant_initializer(0.01))\n",
    "        a1 = tf.nn.relu(tf.nn.conv2d(X, filter=w1, strides=[1,1,1,1], padding='SAME') + b1)\n",
    "        p1 = tf.nn.avg_pool(a1, ksize=[1,2,2,1], strides=[1,2,2,1], padding='SAME')\n",
    "\n",
    "    with tf.variable_scope(\"conv2\"):\n",
    "        w2 = tf.get_variable('w', [5,5,32,64], initializer=tf.truncated_normal_initializer(stddev = 0.02))\n",
    "        b2 = tf.get_variable('b', [64], initializer=tf.constant_initializer(0.01))\n",
    "        a2 = tf.nn.relu(tf.nn.conv2d(p1, filter=w2, strides=[1,1,1,1], padding='SAME') + b2)\n",
    "        p2 = tf.nn.avg_pool(a2, ksize=[1,2,2,1], strides=[1,2,2,1], padding='SAME')\n",
    "        p2 = tf.reshape(p2, [-1, 7 * 7 * 64])\n",
    "\n",
    "    with tf.variable_scope(\"fc1\"):\n",
    "        w3 = tf.get_variable('w', [7*7*64, 1024], initializer=tf.truncated_normal_initializer(stddev = 0.02))\n",
    "        b3 = tf.get_variable('b', [1024], initializer=tf.constant_initializer(0.01))\n",
    "        a3 = tf.nn.relu(tf.matmul(p2, w3) + b3)\n",
    "\n",
    "    with tf.variable_scope(\"softmax\"):\n",
    "        w4 = tf.get_variable('w', [1024, 10], initializer=tf.truncated_normal_initializer(stddev = 0.02))\n",
    "        b4 = tf.get_variable('b', [10], initializer=tf.constant_initializer(0.01))\n",
    "        logits = tf.matmul(a3, w4) + b4\n",
    "        \n",
    "    y_hat = tf.argmax(tf.nn.softmax(logits), 1)\n",
    "    loss = tf.nn.sparse_softmax_cross_entropy_with_logits(logits=logits, labels=y)\n",
    "    acc = tf.reduce_mean(tf.cast(tf.equal(y_hat, y), tf.float32))\n",
    "    trainer = tf.train.AdamOptimizer(1e-3).minimize(loss)\n",
    "\n",
    "\n",
    "    epoch = 1000\n",
    "    batch_size = 200\n",
    "    with tf.Session() as sess:\n",
    "        init = tf.global_variables_initializer()\n",
    "        sess.run(init)\n",
    "        for i in range(epoch):\n",
    "            batch = mnist.train.next_batch(batch_size)\n",
    "            _, current_loss = sess.run([trainer, loss], feed_dict={X:batch[0].reshape(batch_size, 28, 28, 1), y: batch[1]})\n",
    "            if i%100 == 0:\n",
    "                batch = mnist.test.next_batch(batch_size)\n",
    "                accuracy = sess.run(acc, feed_dict={X:batch[0].reshape(batch_size, 28, 28, 1), y: batch[1]})\n",
    "                print('done epoch ', i, 'accu: ', accuracy)"
   ]
  },
  {
   "cell_type": "code",
   "execution_count": null,
   "metadata": {},
   "outputs": [],
   "source": []
  },
  {
   "cell_type": "code",
   "execution_count": null,
   "metadata": {},
   "outputs": [],
   "source": []
  },
  {
   "cell_type": "code",
   "execution_count": null,
   "metadata": {},
   "outputs": [],
   "source": []
  }
 ],
 "metadata": {
  "kernelspec": {
   "display_name": "Python 3",
   "language": "python",
   "name": "python3"
  },
  "language_info": {
   "codemirror_mode": {
    "name": "ipython",
    "version": 3
   },
   "file_extension": ".py",
   "mimetype": "text/x-python",
   "name": "python",
   "nbconvert_exporter": "python",
   "pygments_lexer": "ipython3",
   "version": "3.6.7"
  }
 },
 "nbformat": 4,
 "nbformat_minor": 2
}
